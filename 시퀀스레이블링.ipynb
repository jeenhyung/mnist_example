{
  "nbformat": 4,
  "nbformat_minor": 0,
  "metadata": {
    "colab": {
      "name": "시퀀스레이블링.ipynb",
      "provenance": [],
      "authorship_tag": "ABX9TyP0wM5Ev+yLINkk3IevtiE2",
      "include_colab_link": true
    },
    "kernelspec": {
      "name": "python3",
      "display_name": "Python 3"
    },
    "accelerator": "GPU"
  },
  "cells": [
    {
      "cell_type": "markdown",
      "metadata": {
        "id": "view-in-github",
        "colab_type": "text"
      },
      "source": [
        "<a href=\"https://colab.research.google.com/github/jeenhyung/mnist_example/blob/main/%EC%8B%9C%ED%80%80%EC%8A%A4%EB%A0%88%EC%9D%B4%EB%B8%94%EB%A7%81.ipynb\" target=\"_parent\"><img src=\"https://colab.research.google.com/assets/colab-badge.svg\" alt=\"Open In Colab\"/></a>"
      ]
    },
    {
      "cell_type": "markdown",
      "metadata": {
        "id": "RkA0DxN8Lr-p"
      },
      "source": [
        "# 01. 시퀀스 레이블링(Sequence Labeling)"
      ]
    },
    {
      "cell_type": "markdown",
      "metadata": {
        "id": "ZqfiJ5G0Lu-D"
      },
      "source": [
        "## 1. 훈련 데이터에 대한 이해"
      ]
    },
    {
      "cell_type": "markdown",
      "metadata": {
        "id": "gG1phrtwTfG9"
      },
      "source": [
        "## 2. 시퀀스 레이블링(Sequence Labeling)"
      ]
    },
    {
      "cell_type": "markdown",
      "metadata": {
        "id": "7f2XlNXAYCyv"
      },
      "source": [
        "## 3. 양방향 RNN(Bidirectional RNN)"
      ]
    },
    {
      "cell_type": "markdown",
      "metadata": {
        "id": "VzNs5locYGUj"
      },
      "source": [
        "## 4. RNN의 다-대-다(Many-to-Many) 문제"
      ]
    },
    {
      "cell_type": "markdown",
      "metadata": {
        "id": "iU2mVsfcY_nW"
      },
      "source": [
        "# 02. 양방향 RNN을 이용한 품사 태깅"
      ]
    },
    {
      "cell_type": "markdown",
      "metadata": {
        "id": "BNqiOb96ZCWQ"
      },
      "source": [
        "## 1. 셋팅하기"
      ]
    },
    {
      "cell_type": "code",
      "metadata": {
        "id": "CN9lAIfqZDW2"
      },
      "source": [
        "import torch\n",
        "import torch.nn as nn\n",
        "import torch.nn.functional as F\n",
        "import torch.optim as optim\n",
        "from torchtext import data\n",
        "from torchtext import datasets\n",
        "import time\n",
        "import random"
      ],
      "execution_count": 1,
      "outputs": []
    },
    {
      "cell_type": "code",
      "metadata": {
        "colab": {
          "base_uri": "https://localhost:8080/"
        },
        "id": "nqFfQ-4EZbEI",
        "outputId": "c997de19-898d-4557-96a7-1951e0669074"
      },
      "source": [
        "SEED = 1234\n",
        "random.seed(SEED)\n",
        "torch.manual_seed(SEED)"
      ],
      "execution_count": 2,
      "outputs": [
        {
          "output_type": "execute_result",
          "data": {
            "text/plain": [
              "<torch._C.Generator at 0x7f5a262aeb10>"
            ]
          },
          "metadata": {
            "tags": []
          },
          "execution_count": 2
        }
      ]
    },
    {
      "cell_type": "code",
      "metadata": {
        "id": "GxlRvj5IZega"
      },
      "source": [
        "device = torch.device('cuda' if torch.cuda.is_available() else 'cpu')"
      ],
      "execution_count": 3,
      "outputs": []
    },
    {
      "cell_type": "markdown",
      "metadata": {
        "id": "RUQstP3JZjwb"
      },
      "source": [
        "## 2. 훈련 데이터에 대한 이해"
      ]
    },
    {
      "cell_type": "markdown",
      "metadata": {
        "id": "LXpperCyZl1d"
      },
      "source": [
        "### 1. 필드 정의하기"
      ]
    },
    {
      "cell_type": "code",
      "metadata": {
        "id": "3fgVNSuZZf2h"
      },
      "source": [
        "# 3개의 필드 정의\n",
        "TEXT = data.Field(lower = True)\n",
        "UD_TAGS = data.Field(unk_token = None)\n",
        "PTB_TAGS = data.Field(unk_token = None)\n",
        "\n",
        "fields = ((\"text\", TEXT), (\"udtags\", UD_TAGS), (\"ptbtags\", PTB_TAGS))"
      ],
      "execution_count": 4,
      "outputs": []
    },
    {
      "cell_type": "markdown",
      "metadata": {
        "id": "r8WY3NVxZ7G-"
      },
      "source": [
        "### 2. 데이터셋 만들기"
      ]
    },
    {
      "cell_type": "code",
      "metadata": {
        "colab": {
          "base_uri": "https://localhost:8080/"
        },
        "id": "SUukUS4-Z9hy",
        "outputId": "e9f75630-6505-4639-8fed-a06921576488"
      },
      "source": [
        "train_data, valid_data, test_data = datasets.UDPOS.splits(fields)"
      ],
      "execution_count": 5,
      "outputs": [
        {
          "output_type": "stream",
          "text": [
            "downloading en-ud-v2.zip\n"
          ],
          "name": "stdout"
        },
        {
          "output_type": "stream",
          "text": [
            "en-ud-v2.zip: 100%|██████████| 688k/688k [00:00<00:00, 40.4MB/s]\n"
          ],
          "name": "stderr"
        },
        {
          "output_type": "stream",
          "text": [
            "extracting\n"
          ],
          "name": "stdout"
        }
      ]
    },
    {
      "cell_type": "code",
      "metadata": {
        "colab": {
          "base_uri": "https://localhost:8080/"
        },
        "id": "yRADRR6WZ_Jm",
        "outputId": "2454fc50-a470-490b-9b92-141ca12f96f9"
      },
      "source": [
        "print(f\"훈련 샘플의 개수 : {len(train_data)}\")\n",
        "print(f\"검증 샘플의 개수 : {len(valid_data)}\")\n",
        "print(f\"테스트 샘플의 개수 : {len(test_data)}\")"
      ],
      "execution_count": 6,
      "outputs": [
        {
          "output_type": "stream",
          "text": [
            "훈련 샘플의 개수 : 12543\n",
            "검증 샘플의 개수 : 2002\n",
            "테스트 샘플의 개수 : 2077\n"
          ],
          "name": "stdout"
        }
      ]
    },
    {
      "cell_type": "code",
      "metadata": {
        "colab": {
          "base_uri": "https://localhost:8080/"
        },
        "id": "DtmeANdVaCfo",
        "outputId": "213f960d-8901-45cc-f1ae-7a6f34d89df6"
      },
      "source": [
        "# 훈련 데이터의 3개의 필드 확인\n",
        "print(train_data.fields)"
      ],
      "execution_count": 7,
      "outputs": [
        {
          "output_type": "stream",
          "text": [
            "{'text': <torchtext.data.field.Field object at 0x7f59d7ffd828>, 'udtags': <torchtext.data.field.Field object at 0x7f59d7ffd860>, 'ptbtags': <torchtext.data.field.Field object at 0x7f59d7ffd8d0>}\n"
          ],
          "name": "stdout"
        }
      ]
    },
    {
      "cell_type": "code",
      "metadata": {
        "colab": {
          "base_uri": "https://localhost:8080/"
        },
        "id": "jCGtD1d1aFFT",
        "outputId": "9d5638e0-1848-4ebf-c949-9b4c1c219d31"
      },
      "source": [
        "# 첫번째 훈련 샘플의 text 필드\n",
        "print(vars(train_data.examples[0])['text'])"
      ],
      "execution_count": 8,
      "outputs": [
        {
          "output_type": "stream",
          "text": [
            "['al', '-', 'zaman', ':', 'american', 'forces', 'killed', 'shaikh', 'abdullah', 'al', '-', 'ani', ',', 'the', 'preacher', 'at', 'the', 'mosque', 'in', 'the', 'town', 'of', 'qaim', ',', 'near', 'the', 'syrian', 'border', '.']\n"
          ],
          "name": "stdout"
        }
      ]
    },
    {
      "cell_type": "code",
      "metadata": {
        "colab": {
          "base_uri": "https://localhost:8080/"
        },
        "id": "X9Mvsa19aKpn",
        "outputId": "13600cd9-1d6e-4d2c-aa2c-f757c8694e50"
      },
      "source": [
        "# 첫번째 훈련 샘플의 udtags 필드\n",
        "print(vars(train_data.examples[0])['udtags'])"
      ],
      "execution_count": 9,
      "outputs": [
        {
          "output_type": "stream",
          "text": [
            "['PROPN', 'PUNCT', 'PROPN', 'PUNCT', 'ADJ', 'NOUN', 'VERB', 'PROPN', 'PROPN', 'PROPN', 'PUNCT', 'PROPN', 'PUNCT', 'DET', 'NOUN', 'ADP', 'DET', 'NOUN', 'ADP', 'DET', 'NOUN', 'ADP', 'PROPN', 'PUNCT', 'ADP', 'DET', 'ADJ', 'NOUN', 'PUNCT']\n"
          ],
          "name": "stdout"
        }
      ]
    },
    {
      "cell_type": "code",
      "metadata": {
        "colab": {
          "base_uri": "https://localhost:8080/"
        },
        "id": "nFPJy-jLaLjc",
        "outputId": "0d6c5985-dc7d-4a1c-dc01-e9f1845acd1c"
      },
      "source": [
        "# 첫번째 훈련 샘플의 ptbdtags 필드\n",
        "print(vars(train_data.examples[0])['ptbtags'])"
      ],
      "execution_count": 10,
      "outputs": [
        {
          "output_type": "stream",
          "text": [
            "['NNP', 'HYPH', 'NNP', ':', 'JJ', 'NNS', 'VBD', 'NNP', 'NNP', 'NNP', 'HYPH', 'NNP', ',', 'DT', 'NN', 'IN', 'DT', 'NN', 'IN', 'DT', 'NN', 'IN', 'NNP', ',', 'IN', 'DT', 'JJ', 'NN', '.']\n"
          ],
          "name": "stdout"
        }
      ]
    },
    {
      "cell_type": "markdown",
      "metadata": {
        "id": "RLL7CNVXaOGm"
      },
      "source": [
        "### 3. 단어 집합(Vocabulary) 만들기"
      ]
    },
    {
      "cell_type": "code",
      "metadata": {
        "colab": {
          "base_uri": "https://localhost:8080/"
        },
        "id": "v8yKyGzlaP_t",
        "outputId": "55e6b5c6-cc4e-48e4-9d12-27e541759344"
      },
      "source": [
        "# 최소 허용 빈도\n",
        "MIN_FREQ = 5\n",
        "\n",
        "# 사전 훈련된 워드 임베딩 GloVe 다운로드\n",
        "TEXT.build_vocab(train_data, min_freq = MIN_FREQ, vectors = \"glove.6B.100d\")\n",
        "UD_TAGS.build_vocab(train_data)\n",
        "PTB_TAGS.build_vocab(train_data)"
      ],
      "execution_count": 11,
      "outputs": [
        {
          "output_type": "stream",
          "text": [
            ".vector_cache/glove.6B.zip: 862MB [06:29, 2.22MB/s]                           \n",
            "100%|█████████▉| 399275/400000 [00:16<00:00, 21954.88it/s]"
          ],
          "name": "stderr"
        }
      ]
    },
    {
      "cell_type": "code",
      "metadata": {
        "colab": {
          "base_uri": "https://localhost:8080/"
        },
        "id": "rKYDkCwfaSm4",
        "outputId": "5f885373-0ae9-476a-dfde-6c9a7ea01fde"
      },
      "source": [
        "# 상위 빈도수 20개 단어\n",
        "print(TEXT.vocab.freqs.most_common(20))"
      ],
      "execution_count": 12,
      "outputs": [
        {
          "output_type": "stream",
          "text": [
            "[('the', 9076), ('.', 8640), (',', 7021), ('to', 5137), ('and', 5002), ('a', 3782), ('of', 3622), ('i', 3379), ('in', 3112), ('is', 2239), ('you', 2156), ('that', 2036), ('it', 1850), ('for', 1842), ('-', 1426), ('have', 1359), ('\"', 1296), ('on', 1273), ('was', 1244), ('with', 1216)]\n"
          ],
          "name": "stdout"
        }
      ]
    },
    {
      "cell_type": "code",
      "metadata": {
        "colab": {
          "base_uri": "https://localhost:8080/"
        },
        "id": "eismn9pocdr9",
        "outputId": "71013723-24d1-444b-a178-9d520ed5f528"
      },
      "source": [
        "# 상위 정수 인덱스 단어 10개 출력\n",
        "print(TEXT.vocab.itos[:10])"
      ],
      "execution_count": 13,
      "outputs": [
        {
          "output_type": "stream",
          "text": [
            "['<unk>', '<pad>', 'the', '.', ',', 'to', 'and', 'a', 'of', 'i']\n"
          ],
          "name": "stdout"
        }
      ]
    },
    {
      "cell_type": "code",
      "metadata": {
        "colab": {
          "base_uri": "https://localhost:8080/"
        },
        "id": "lrZYFbWycvqi",
        "outputId": "42b0d89b-1a90-4869-ace3-33383571e6de"
      },
      "source": [
        "# 상위 빈도순으로 udtags 출력\n",
        "print(UD_TAGS.vocab.freqs.most_common())"
      ],
      "execution_count": 14,
      "outputs": [
        {
          "output_type": "stream",
          "text": [
            "[('NOUN', 34781), ('PUNCT', 23679), ('VERB', 23081), ('PRON', 18577), ('ADP', 17638), ('DET', 16285), ('PROPN', 12946), ('ADJ', 12477), ('AUX', 12343), ('ADV', 10548), ('CCONJ', 6707), ('PART', 5567), ('NUM', 3999), ('SCONJ', 3843), ('X', 847), ('INTJ', 688), ('SYM', 599)]\n"
          ],
          "name": "stdout"
        }
      ]
    },
    {
      "cell_type": "code",
      "metadata": {
        "colab": {
          "base_uri": "https://localhost:8080/"
        },
        "id": "Jh8UHTgkc33i",
        "outputId": "1a14debc-8790-4179-9ad8-45dc8348e567"
      },
      "source": [
        "# 상위 정수 인덱스 순으로 출력\n",
        "print(UD_TAGS.vocab.itos)"
      ],
      "execution_count": 15,
      "outputs": [
        {
          "output_type": "stream",
          "text": [
            "['<pad>', 'NOUN', 'PUNCT', 'VERB', 'PRON', 'ADP', 'DET', 'PROPN', 'ADJ', 'AUX', 'ADV', 'CCONJ', 'PART', 'NUM', 'SCONJ', 'X', 'INTJ', 'SYM']\n"
          ],
          "name": "stdout"
        }
      ]
    },
    {
      "cell_type": "code",
      "metadata": {
        "id": "em95vH1Ec5gO"
      },
      "source": [
        "def tag_percentage(tag_counts): # 태그 레이블의 분포를 확인하는 함수\n",
        "    total_count = sum([count for tag, count in tag_counts])\n",
        "    tag_counts_percentages = [(tag, count, count/total_count) for tag, count in tag_counts]\n",
        "\n",
        "    return tag_counts_percentages"
      ],
      "execution_count": 16,
      "outputs": []
    },
    {
      "cell_type": "code",
      "metadata": {
        "colab": {
          "base_uri": "https://localhost:8080/"
        },
        "id": "MZsJJrfLc9Sb",
        "outputId": "13716689-baeb-4448-fd2e-9ee955d767f9"
      },
      "source": [
        "print(\"Tag  Occurences Percentage\\n\")\n",
        "for tag, count, percent in tag_percentage(UD_TAGS.vocab.freqs.most_common()):\n",
        "    print(f\"{tag}\\t{count}\\t{percent*100:4.1f}%\")"
      ],
      "execution_count": 17,
      "outputs": [
        {
          "output_type": "stream",
          "text": [
            "Tag  Occurences Percentage\n",
            "\n",
            "NOUN\t34781\t17.0%\n",
            "PUNCT\t23679\t11.6%\n",
            "VERB\t23081\t11.3%\n",
            "PRON\t18577\t 9.1%\n",
            "ADP\t17638\t 8.6%\n",
            "DET\t16285\t 8.0%\n",
            "PROPN\t12946\t 6.3%\n",
            "ADJ\t12477\t 6.1%\n",
            "AUX\t12343\t 6.0%\n",
            "ADV\t10548\t 5.2%\n",
            "CCONJ\t6707\t 3.3%\n",
            "PART\t5567\t 2.7%\n",
            "NUM\t3999\t 2.0%\n",
            "SCONJ\t3843\t 1.9%\n",
            "X\t847\t 0.4%\n",
            "INTJ\t688\t 0.3%\n",
            "SYM\t599\t 0.3%\n"
          ],
          "name": "stdout"
        }
      ]
    },
    {
      "cell_type": "markdown",
      "metadata": {
        "id": "GzbJaS5CdGws"
      },
      "source": [
        "### 4. 데이터로더 만들기"
      ]
    },
    {
      "cell_type": "code",
      "metadata": {
        "id": "WDkF1YvydIvP"
      },
      "source": [
        "BATCH_SIZE = 64\n",
        "\n",
        "train_iterator, valid_iterator, test_iterator = data.BucketIterator.splits(\n",
        "    (train_data, valid_data, test_data), \n",
        "    batch_size = BATCH_SIZE,\n",
        "    device = device)"
      ],
      "execution_count": 18,
      "outputs": []
    },
    {
      "cell_type": "code",
      "metadata": {
        "id": "LTQjU5mfdKIU"
      },
      "source": [
        "batch = next(iter(train_iterator))"
      ],
      "execution_count": 19,
      "outputs": []
    },
    {
      "cell_type": "code",
      "metadata": {
        "colab": {
          "base_uri": "https://localhost:8080/"
        },
        "id": "477GPmo5dLjy",
        "outputId": "0d61bc4e-04d3-4abd-e489-918d0019bad6"
      },
      "source": [
        "batch"
      ],
      "execution_count": 20,
      "outputs": [
        {
          "output_type": "execute_result",
          "data": {
            "text/plain": [
              "\n",
              "[torchtext.data.batch.Batch of size 64 from UDPOS]\n",
              "\t[.text]:[torch.cuda.LongTensor of size 46x64 (GPU 0)]\n",
              "\t[.udtags]:[torch.cuda.LongTensor of size 46x64 (GPU 0)]\n",
              "\t[.ptbtags]:[torch.cuda.LongTensor of size 46x64 (GPU 0)]"
            ]
          },
          "metadata": {
            "tags": []
          },
          "execution_count": 20
        }
      ]
    },
    {
      "cell_type": "code",
      "metadata": {
        "colab": {
          "base_uri": "https://localhost:8080/"
        },
        "id": "RtoOG4ladO0c",
        "outputId": "2784a838-3638-40fe-aa3c-5855391bef00"
      },
      "source": [
        "batch.text.shape"
      ],
      "execution_count": 21,
      "outputs": [
        {
          "output_type": "execute_result",
          "data": {
            "text/plain": [
              "torch.Size([46, 64])"
            ]
          },
          "metadata": {
            "tags": []
          },
          "execution_count": 21
        }
      ]
    },
    {
      "cell_type": "code",
      "metadata": {
        "colab": {
          "base_uri": "https://localhost:8080/"
        },
        "id": "Y4BNvV9EdQsx",
        "outputId": "598b286e-6f2f-4e52-cadc-3bc705cf5fec"
      },
      "source": [
        "torch.Size([46, 64])"
      ],
      "execution_count": 22,
      "outputs": [
        {
          "output_type": "execute_result",
          "data": {
            "text/plain": [
              "torch.Size([46, 64])"
            ]
          },
          "metadata": {
            "tags": []
          },
          "execution_count": 22
        }
      ]
    },
    {
      "cell_type": "code",
      "metadata": {
        "colab": {
          "base_uri": "https://localhost:8080/"
        },
        "id": "BYmm-DoMdUlQ",
        "outputId": "14f6f457-5ebb-45c9-e3b6-d0df7b016294"
      },
      "source": [
        "batch.text"
      ],
      "execution_count": 23,
      "outputs": [
        {
          "output_type": "execute_result",
          "data": {
            "text/plain": [
              "tensor([[ 732,  167,    2,  ...,    2,   59,  668],\n",
              "        [  16,  196,  133,  ..., 2991,   46,    1],\n",
              "        [   1,   29,   48,  ..., 1582,   12,    1],\n",
              "        ...,\n",
              "        [   1,    1,    1,  ...,    1,    1,    1],\n",
              "        [   1,    1,    1,  ...,    1,    1,    1],\n",
              "        [   1,    1,    1,  ...,    1,    1,    1]], device='cuda:0')"
            ]
          },
          "metadata": {
            "tags": []
          },
          "execution_count": 23
        }
      ]
    },
    {
      "cell_type": "markdown",
      "metadata": {
        "id": "pthCVsrLdkm7"
      },
      "source": [
        "### 3. 모델 구현하기"
      ]
    },
    {
      "cell_type": "code",
      "metadata": {
        "id": "DJIcZrWPdjtL"
      },
      "source": [
        "# 이번 모델에서는 batch_first=True를 사용하지 않으므로 배치 차원이 맨 앞이 아님.\n",
        "class RNNPOSTagger(nn.Module):\n",
        "    def __init__(self, vocab_size, embedding_dim, hidden_dim, output_dim, n_layers, bidirectional, dropout): \n",
        "        super().__init__()\n",
        "\n",
        "        self.embedding = nn.Embedding(vocab_size, embedding_dim)\n",
        "        self.rnn = nn.LSTM(embedding_dim, hidden_dim, num_layers = n_layers, bidirectional = bidirectional)\n",
        "        self.fc = nn.Linear(hidden_dim * 2 if bidirectional else hidden_dim, output_dim)        \n",
        "        self.dropout = nn.Dropout(dropout)\n",
        "\n",
        "    def forward(self, text):\n",
        "        # text = [sent len, batch size]\n",
        "        embedded = self.dropout(self.embedding(text))\n",
        "\n",
        "        # embedded = [sent len, batch size, emb dim]\n",
        "        outputs, (hidden, cell) = self.rnn(embedded)\n",
        "\n",
        "        # output = [sent len, batch size, hid dim * n directions]\n",
        "        # hidden/cell = [n layers * n directions, batch size, hid dim]\n",
        "        predictions = self.fc(self.dropout(outputs))\n",
        "\n",
        "        # predictions = [sent len, batch size, output dim]\n",
        "        return predictions"
      ],
      "execution_count": 25,
      "outputs": []
    },
    {
      "cell_type": "code",
      "metadata": {
        "id": "zKIDsULAd8FP"
      },
      "source": [
        "INPUT_DIM = len(TEXT.vocab)\n",
        "EMBEDDING_DIM = 100\n",
        "HIDDEN_DIM = 128\n",
        "OUTPUT_DIM = len(UD_TAGS.vocab)\n",
        "N_LAYERS = 2\n",
        "BIDIRECTIONAL = True\n",
        "DROPOUT = 0.25\n",
        "\n",
        "model = RNNPOSTagger(INPUT_DIM, \n",
        "                     EMBEDDING_DIM, \n",
        "                     HIDDEN_DIM, \n",
        "                     OUTPUT_DIM, \n",
        "                     N_LAYERS, \n",
        "                     BIDIRECTIONAL, \n",
        "                     DROPOUT)"
      ],
      "execution_count": 26,
      "outputs": []
    },
    {
      "cell_type": "code",
      "metadata": {
        "colab": {
          "base_uri": "https://localhost:8080/"
        },
        "id": "4nr-7v6ceE7z",
        "outputId": "adf95432-2096-415b-9fa5-c0e3340ae9f6"
      },
      "source": [
        "# 파라미터 개수 출력\n",
        "def count_parameters(model):\n",
        "    return sum(p.numel() for p in model.parameters() if p.requires_grad)\n",
        "\n",
        "print(f'The model has {count_parameters(model):,} trainable parameters')"
      ],
      "execution_count": 27,
      "outputs": [
        {
          "output_type": "stream",
          "text": [
            "The model has 1,027,510 trainable parameters\n"
          ],
          "name": "stdout"
        }
      ]
    },
    {
      "cell_type": "markdown",
      "metadata": {
        "id": "77WXQ_ZAeHLo"
      },
      "source": [
        "## 4. 사전 훈련된 워드 임베딩 사용하기"
      ]
    },
    {
      "cell_type": "code",
      "metadata": {
        "colab": {
          "base_uri": "https://localhost:8080/"
        },
        "id": "gbNsv4KVeMhA",
        "outputId": "859906f0-e420-4b25-bdaf-cf64941e6990"
      },
      "source": [
        "pretrained_embeddings = TEXT.vocab.vectors\n",
        "print(pretrained_embeddings.shape)"
      ],
      "execution_count": 28,
      "outputs": [
        {
          "output_type": "stream",
          "text": [
            "torch.Size([3921, 100])\n"
          ],
          "name": "stdout"
        }
      ]
    },
    {
      "cell_type": "code",
      "metadata": {
        "colab": {
          "base_uri": "https://localhost:8080/"
        },
        "id": "lxWX-2ApeQ_C",
        "outputId": "a4d3bb38-db85-42c2-9fc5-c9e70c01d374"
      },
      "source": [
        "model.embedding.weight.data.copy_(pretrained_embeddings) # 임베딩 벡터값 copy"
      ],
      "execution_count": 29,
      "outputs": [
        {
          "output_type": "execute_result",
          "data": {
            "text/plain": [
              "tensor([[ 0.0000,  0.0000,  0.0000,  ...,  0.0000,  0.0000,  0.0000],\n",
              "        [ 0.0000,  0.0000,  0.0000,  ...,  0.0000,  0.0000,  0.0000],\n",
              "        [-0.0382, -0.2449,  0.7281,  ..., -0.1459,  0.8278,  0.2706],\n",
              "        ...,\n",
              "        [-0.1020,  0.7700,  0.1169,  ..., -0.1416, -0.1932, -0.4225],\n",
              "        [-0.0263,  0.0179, -0.5016,  ..., -0.8688,  0.9409, -0.2882],\n",
              "        [ 0.1519,  0.4712,  0.0895,  ..., -0.4702, -0.3127,  0.1078]])"
            ]
          },
          "metadata": {
            "tags": []
          },
          "execution_count": 29
        }
      ]
    },
    {
      "cell_type": "code",
      "metadata": {
        "colab": {
          "base_uri": "https://localhost:8080/"
        },
        "id": "h5NPNQ35eV3S",
        "outputId": "9ad4a15e-2e1c-4fee-c32c-b8103e8e67c3"
      },
      "source": [
        "UNK_IDX = TEXT.vocab.stoi[TEXT.unk_token]\n",
        "PAD_IDX = TEXT.vocab.stoi[TEXT.pad_token]\n",
        "print(UNK_IDX)\n",
        "print(PAD_IDX)"
      ],
      "execution_count": 30,
      "outputs": [
        {
          "output_type": "stream",
          "text": [
            "0\n",
            "1\n"
          ],
          "name": "stdout"
        }
      ]
    },
    {
      "cell_type": "code",
      "metadata": {
        "colab": {
          "base_uri": "https://localhost:8080/"
        },
        "id": "pVuOATateX4W",
        "outputId": "5aeafc95-9cf7-448e-ad1a-fd74c9e5bbeb"
      },
      "source": [
        "model.embedding.weight.data[UNK_IDX] = torch.zeros(EMBEDDING_DIM) # 0번 임베딩 벡터에는 0값을 채운다.\n",
        "model.embedding.weight.data[PAD_IDX] = torch.zeros(EMBEDDING_DIM) # 1번 임베딩 벡터에는 1값을 채운다.\n",
        "print(model.embedding.weight.data)"
      ],
      "execution_count": 31,
      "outputs": [
        {
          "output_type": "stream",
          "text": [
            "tensor([[ 0.0000,  0.0000,  0.0000,  ...,  0.0000,  0.0000,  0.0000],\n",
            "        [ 0.0000,  0.0000,  0.0000,  ...,  0.0000,  0.0000,  0.0000],\n",
            "        [-0.0382, -0.2449,  0.7281,  ..., -0.1459,  0.8278,  0.2706],\n",
            "        ...,\n",
            "        [-0.1020,  0.7700,  0.1169,  ..., -0.1416, -0.1932, -0.4225],\n",
            "        [-0.0263,  0.0179, -0.5016,  ..., -0.8688,  0.9409, -0.2882],\n",
            "        [ 0.1519,  0.4712,  0.0895,  ..., -0.4702, -0.3127,  0.1078]])\n"
          ],
          "name": "stdout"
        }
      ]
    },
    {
      "cell_type": "markdown",
      "metadata": {
        "id": "74U3NO1MeZNU"
      },
      "source": [
        "## 5. 옵티마이저와 비용 함수 구현하기"
      ]
    },
    {
      "cell_type": "code",
      "metadata": {
        "colab": {
          "base_uri": "https://localhost:8080/"
        },
        "id": "7PazwvR2eag4",
        "outputId": "ee1eb3b0-d491-44c5-920a-5292f26c39c8"
      },
      "source": [
        "TAG_PAD_IDX = UD_TAGS.vocab.stoi[UD_TAGS.pad_token]\n",
        "print(TAG_PAD_IDX)"
      ],
      "execution_count": 32,
      "outputs": [
        {
          "output_type": "stream",
          "text": [
            "0\n"
          ],
          "name": "stdout"
        }
      ]
    },
    {
      "cell_type": "code",
      "metadata": {
        "id": "Ww28BYSJemoA"
      },
      "source": [
        "optimizer = optim.Adam(model.parameters())"
      ],
      "execution_count": 33,
      "outputs": []
    },
    {
      "cell_type": "code",
      "metadata": {
        "id": "MHE5nUxweoFt"
      },
      "source": [
        "criterion = nn.CrossEntropyLoss(ignore_index = TAG_PAD_IDX)"
      ],
      "execution_count": 34,
      "outputs": []
    },
    {
      "cell_type": "code",
      "metadata": {
        "id": "BnMUYtIJepnY"
      },
      "source": [
        "model = model.to(device)\n",
        "criterion = criterion.to(device)"
      ],
      "execution_count": 35,
      "outputs": []
    },
    {
      "cell_type": "code",
      "metadata": {
        "id": "5AnxgeuTerGt"
      },
      "source": [
        "prediction = model(batch.text)"
      ],
      "execution_count": 36,
      "outputs": []
    },
    {
      "cell_type": "code",
      "metadata": {
        "colab": {
          "base_uri": "https://localhost:8080/"
        },
        "id": "REg4NFb9esqY",
        "outputId": "e285f51f-7c54-4406-ce32-b68489349bae"
      },
      "source": [
        "prediction.shape"
      ],
      "execution_count": 37,
      "outputs": [
        {
          "output_type": "execute_result",
          "data": {
            "text/plain": [
              "torch.Size([46, 64, 18])"
            ]
          },
          "metadata": {
            "tags": []
          },
          "execution_count": 37
        }
      ]
    },
    {
      "cell_type": "code",
      "metadata": {
        "colab": {
          "base_uri": "https://localhost:8080/"
        },
        "id": "JZwqqCBzewRM",
        "outputId": "ee5449b0-b8b5-423e-9c98-499b1e9c00fc"
      },
      "source": [
        "prediction = prediction.view(-1, prediction.shape[-1])\n",
        "prediction.shape"
      ],
      "execution_count": 38,
      "outputs": [
        {
          "output_type": "execute_result",
          "data": {
            "text/plain": [
              "torch.Size([2944, 18])"
            ]
          },
          "metadata": {
            "tags": []
          },
          "execution_count": 38
        }
      ]
    },
    {
      "cell_type": "code",
      "metadata": {
        "colab": {
          "base_uri": "https://localhost:8080/"
        },
        "id": "ORiwtWG-exoz",
        "outputId": "f627f55d-3359-4a73-ace6-b7f17d7ad5f6"
      },
      "source": [
        "batch.udtags.shape"
      ],
      "execution_count": 39,
      "outputs": [
        {
          "output_type": "execute_result",
          "data": {
            "text/plain": [
              "torch.Size([46, 64])"
            ]
          },
          "metadata": {
            "tags": []
          },
          "execution_count": 39
        }
      ]
    },
    {
      "cell_type": "code",
      "metadata": {
        "colab": {
          "base_uri": "https://localhost:8080/"
        },
        "id": "hgysnPzjezaE",
        "outputId": "c72bc417-8580-476a-b35c-ac0ec82e1062"
      },
      "source": [
        "batch.udtags.view(-1).shape"
      ],
      "execution_count": 40,
      "outputs": [
        {
          "output_type": "execute_result",
          "data": {
            "text/plain": [
              "torch.Size([2944])"
            ]
          },
          "metadata": {
            "tags": []
          },
          "execution_count": 40
        }
      ]
    }
  ]
}