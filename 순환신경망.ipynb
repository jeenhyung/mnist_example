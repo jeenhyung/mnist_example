{
  "nbformat": 4,
  "nbformat_minor": 0,
  "metadata": {
    "colab": {
      "name": "순환신경망.ipynb",
      "provenance": [],
      "authorship_tag": "ABX9TyM2ObI3S9hDYkf6jY1cpC/M",
      "include_colab_link": true
    },
    "kernelspec": {
      "name": "python3",
      "display_name": "Python 3"
    },
    "accelerator": "GPU"
  },
  "cells": [
    {
      "cell_type": "markdown",
      "metadata": {
        "id": "view-in-github",
        "colab_type": "text"
      },
      "source": [
        "<a href=\"https://colab.research.google.com/github/jeenhyung/mnist_example/blob/main/%EC%88%9C%ED%99%98%EC%8B%A0%EA%B2%BD%EB%A7%9D.ipynb\" target=\"_parent\"><img src=\"https://colab.research.google.com/assets/colab-badge.svg\" alt=\"Open In Colab\"/></a>"
      ]
    },
    {
      "cell_type": "markdown",
      "metadata": {
        "id": "4xIV_6zQlvXj"
      },
      "source": [
        "# 10. 순환 신경망(Recurrent Neural Network)"
      ]
    },
    {
      "cell_type": "markdown",
      "metadata": {
        "id": "IXeHdicTl0Nd"
      },
      "source": [
        "## 1. 순환 신경망(Recurrent Neural Network, RNN)"
      ]
    },
    {
      "cell_type": "markdown",
      "metadata": {
        "id": "ucVopwqzv38x"
      },
      "source": [
        "## 2. 파이썬으로 RNN 구현하기"
      ]
    },
    {
      "cell_type": "code",
      "metadata": {
        "colab": {
          "base_uri": "https://localhost:8080/"
        },
        "id": "IGZlhp9ilxWp",
        "outputId": "221996ee-f5f8-43e8-9188-09fe9aa04b58"
      },
      "source": [
        "import numpy as np\n",
        "\n",
        "timesteps = 10 # 시점의 수. NLP에서는 보통 문장의 길이가 된다.\n",
        "input_size = 4 # 입력의 차원. NLP에서는 보통 단어 벡터의 차원이 된다.\n",
        "hidden_size = 8 # 은닉 상태의 크기. 메모리 셀의 용량이다.\n",
        "\n",
        "inputs = np.random.random((timesteps, input_size)) # 입력에 해당되는 2D 텐서\n",
        "\n",
        "print(inputs) # (10, 4)\n",
        "\n",
        "hidden_state_t = np.zeros((hidden_size,)) # 초기 은닉 상태는 0(벡터)로 초기화\n",
        "# 은닉 상태의 크기 hidden_size로 은닉 상태를 만듬."
      ],
      "execution_count": 61,
      "outputs": [
        {
          "output_type": "stream",
          "text": [
            "[[0.03718854 0.02249882 0.48591791 0.49259168]\n",
            " [0.15782513 0.25782237 0.42571856 0.42019914]\n",
            " [0.20095025 0.20351726 0.26024744 0.25725996]\n",
            " [0.027303   0.39255628 0.32867377 0.08624114]\n",
            " [0.91801481 0.78112055 0.45704707 0.70858438]\n",
            " [0.64425509 0.35554466 0.76175975 0.28727001]\n",
            " [0.03857606 0.58576494 0.25227055 0.16416233]\n",
            " [0.53678333 0.66083836 0.23083766 0.20463087]\n",
            " [0.84980318 0.7694668  0.47280108 0.87929352]\n",
            " [0.58020321 0.18718993 0.06183574 0.22061717]]\n"
          ],
          "name": "stdout"
        }
      ]
    },
    {
      "cell_type": "code",
      "metadata": {
        "colab": {
          "base_uri": "https://localhost:8080/"
        },
        "id": "6EVGf__rzzbz",
        "outputId": "a87413ac-35b7-405b-c049-7f9027ec3366"
      },
      "source": [
        "print(hidden_state_t) # 8의 크기를 가지는 은닉 상태. 현재는 초기 은닉 상태로 모든 차원이 0의 값을 가짐.\n",
        "print(hidden_state_t.shape)"
      ],
      "execution_count": 62,
      "outputs": [
        {
          "output_type": "stream",
          "text": [
            "[0. 0. 0. 0. 0. 0. 0. 0.]\n",
            "(8,)\n"
          ],
          "name": "stdout"
        }
      ]
    },
    {
      "cell_type": "code",
      "metadata": {
        "id": "HpOky52Tz2Jx"
      },
      "source": [
        "Wx = np.random.random((hidden_size, input_size))  # (8, 4)크기의 2D 텐서 생성. 입력에 대한 가중치.\n",
        "Wh = np.random.random((hidden_size, hidden_size)) # (8, 8)크기의 2D 텐서 생성. 은닉 상태에 대한 가중치.\n",
        "b = np.random.random((hidden_size,)) # (8,)크기의 1D 텐서 생성. 이 값은 편향(bias)."
      ],
      "execution_count": 63,
      "outputs": []
    },
    {
      "cell_type": "code",
      "metadata": {
        "colab": {
          "base_uri": "https://localhost:8080/"
        },
        "id": "i8Tm3Pr90J-i",
        "outputId": "1bc8e687-8eb6-4c83-d58d-8eb355dab767"
      },
      "source": [
        "print(np.shape(Wx))\n",
        "print(np.shape(Wh))\n",
        "print(np.shape(b))"
      ],
      "execution_count": 64,
      "outputs": [
        {
          "output_type": "stream",
          "text": [
            "(8, 4)\n",
            "(8, 8)\n",
            "(8,)\n"
          ],
          "name": "stdout"
        }
      ]
    },
    {
      "cell_type": "code",
      "metadata": {
        "colab": {
          "base_uri": "https://localhost:8080/"
        },
        "id": "Er2XlMmM1V-3",
        "outputId": "0c79aadb-1349-42a3-dbc2-f36f78bc17f8"
      },
      "source": [
        "total_hidden_states = []\n",
        "\n",
        "# 메모리 셀 동작\n",
        "for input_t in inputs: # 각 시점에 따라서 입력값이 입력됨.\n",
        "  # print(input_t.shape) # (4,)\n",
        "  # print(np.dot(Wx,input_t).shape) # (8,)\n",
        "  # print(np.dot(Wh,hidden_state_t).shape) # (8,)\n",
        "  output_t = np.tanh(np.dot(Wx,input_t) + np.dot(Wh,hidden_state_t) + b) # Wx * Xt + Wh * Ht-1 + b(bias)\n",
        "  # print('output_t.shape: ', output_t.shape)\n",
        "  total_hidden_states.append(list(output_t)) # 각 시점의 은닉 상태의 값을 계속해서 축적\n",
        "  print(np.shape(total_hidden_states)) # 각 시점 t별 메모리 셀의 출력의 크기는 (timestep, output_dim)\n",
        "  hidden_state_t = output_t\n",
        "\n",
        "total_hidden_states = np.stack(total_hidden_states, axis = 0) \n",
        "# 출력 시 값을 깔끔하게 해준다.\n",
        "\n",
        "print(total_hidden_states) # (timesteps, output_dim)의 크기. 이 경우 (10, 8)의 크기를 가지는 메모리 셀의 2D 텐서를 출력."
      ],
      "execution_count": 67,
      "outputs": [
        {
          "output_type": "stream",
          "text": [
            "(1, 8)\n",
            "(2, 8)\n",
            "(3, 8)\n",
            "(4, 8)\n",
            "(5, 8)\n",
            "(6, 8)\n",
            "(7, 8)\n",
            "(8, 8)\n",
            "(9, 8)\n",
            "(10, 8)\n",
            "[[0.9998836  0.99958741 0.99999246 0.99996213 0.99993272 0.99998277\n",
            "  0.99979599 0.99585403]\n",
            " [0.99987838 0.99970568 0.99999478 0.99997502 0.99994549 0.99998921\n",
            "  0.99986955 0.99725986]\n",
            " [0.99982349 0.9996244  0.99999181 0.99996481 0.99994369 0.999987\n",
            "  0.99982517 0.99569771]\n",
            " [0.99982816 0.99955765 0.99999337 0.9999659  0.99992938 0.99998744\n",
            "  0.99976924 0.99598876]\n",
            " [0.99993141 0.99995611 0.99999916 0.99999729 0.99998551 0.99999861\n",
            "  0.99999082 0.99970191]\n",
            " [0.99993957 0.99983645 0.99999843 0.99999476 0.99997402 0.99999684\n",
            "  0.9999541  0.99917906]\n",
            " [0.99982273 0.99968625 0.99999482 0.99997157 0.99993576 0.99999016\n",
            "  0.99984317 0.99706919]\n",
            " [0.99984724 0.99984695 0.99999706 0.99998908 0.99996892 0.99999596\n",
            "  0.99994877 0.99864163]\n",
            " [0.99993779 0.99996112 0.99999919 0.99999713 0.99998494 0.99999849\n",
            "  0.99999172 0.99972342]\n",
            " [0.99977305 0.99973418 0.9999912  0.99997347 0.99996536 0.99999125\n",
            "  0.99990213 0.9961355 ]]\n"
          ],
          "name": "stdout"
        }
      ]
    },
    {
      "cell_type": "code",
      "metadata": {
        "colab": {
          "base_uri": "https://localhost:8080/"
        },
        "id": "bCECJwad5tqK",
        "outputId": "488adbe6-dd40-4e73-a8f5-d41d6554a3b6"
      },
      "source": [
        "x = np.linspace(1.0, 32.0, num=32)\n",
        "x.shape"
      ],
      "execution_count": 27,
      "outputs": [
        {
          "output_type": "execute_result",
          "data": {
            "text/plain": [
              "(32,)"
            ]
          },
          "metadata": {
            "tags": []
          },
          "execution_count": 27
        }
      ]
    },
    {
      "cell_type": "code",
      "metadata": {
        "colab": {
          "base_uri": "https://localhost:8080/"
        },
        "id": "uadOG1BF6O4C",
        "outputId": "8c2e984c-a7a9-4721-a377-033b18132f1e"
      },
      "source": [
        "t1 = x.reshape(8, 4)\n",
        "t1.shape"
      ],
      "execution_count": 28,
      "outputs": [
        {
          "output_type": "execute_result",
          "data": {
            "text/plain": [
              "(8, 4)"
            ]
          },
          "metadata": {
            "tags": []
          },
          "execution_count": 28
        }
      ]
    },
    {
      "cell_type": "code",
      "metadata": {
        "colab": {
          "base_uri": "https://localhost:8080/"
        },
        "id": "-mBN99MD6f5G",
        "outputId": "fe2b866d-5231-4cc5-9ed4-4741e94f187f"
      },
      "source": [
        "t2 = np.linspace(1.0, 4.0, num=4)\n",
        "t2.shape"
      ],
      "execution_count": 36,
      "outputs": [
        {
          "output_type": "execute_result",
          "data": {
            "text/plain": [
              "(4,)"
            ]
          },
          "metadata": {
            "tags": []
          },
          "execution_count": 36
        }
      ]
    },
    {
      "cell_type": "code",
      "metadata": {
        "colab": {
          "base_uri": "https://localhost:8080/"
        },
        "id": "L6-hzSBd6mMO",
        "outputId": "809d255b-a958-4e7e-d51c-6f5050fa0603"
      },
      "source": [
        "d = np.dot(t1, t2)\n",
        "d.shape"
      ],
      "execution_count": 31,
      "outputs": [
        {
          "output_type": "execute_result",
          "data": {
            "text/plain": [
              "(8,)"
            ]
          },
          "metadata": {
            "tags": []
          },
          "execution_count": 31
        }
      ]
    },
    {
      "cell_type": "code",
      "metadata": {
        "colab": {
          "base_uri": "https://localhost:8080/"
        },
        "id": "mlBGNrSQ8x2o",
        "outputId": "079349a0-2ff3-4925-b020-4e68f0e84f7d"
      },
      "source": [
        "a = np.array([1, 2, 3])\n",
        "b = np.array([[4],[5],[6]])\n",
        "print(a.shape)\n",
        "print(b.shape)\n",
        "\n",
        "print(np.dot(a, b).shape)"
      ],
      "execution_count": 42,
      "outputs": [
        {
          "output_type": "stream",
          "text": [
            "(3,)\n",
            "(3, 1)\n",
            "(1,)\n"
          ],
          "name": "stdout"
        }
      ]
    },
    {
      "cell_type": "code",
      "metadata": {
        "colab": {
          "base_uri": "https://localhost:8080/"
        },
        "id": "4JxeMqTw-joz",
        "outputId": "85eb1807-acd0-447d-d8f0-a7b5585c86a8"
      },
      "source": [
        "a = np.array([1, 2, 3, 4])\n",
        "b = np.array([[4,3,2,1],\n",
        "              [5,4,3,2],\n",
        "              [6,5,4,3],\n",
        "              [7,6,5,4],\n",
        "              [8,7,6,5],\n",
        "              [9,8,7,6],\n",
        "              [10,9,8,7],\n",
        "              [11,10,9,8]\n",
        "              ])\n",
        "c = np.array([[1], [2], [3], [4]])\n",
        "print(a.shape)\n",
        "print(b.shape)\n",
        "\n",
        "print(np.dot(b,a).shape) # (8,4) * (1,4) -> (1,8)\n"
      ],
      "execution_count": 59,
      "outputs": [
        {
          "output_type": "stream",
          "text": [
            "(4,)\n",
            "(8, 4)\n",
            "(8,)\n"
          ],
          "name": "stdout"
        }
      ]
    },
    {
      "cell_type": "markdown",
      "metadata": {
        "id": "OrhmU4RlGblj"
      },
      "source": [
        "## 3. 파이토치의 nn.RNN()"
      ]
    },
    {
      "cell_type": "code",
      "metadata": {
        "id": "adcZVVocGI7t"
      },
      "source": [
        "import torch\n",
        "import torch.nn as nn"
      ],
      "execution_count": 68,
      "outputs": []
    },
    {
      "cell_type": "code",
      "metadata": {
        "id": "XbKUtxW3HKkZ"
      },
      "source": [
        "input_size = 5 # 입력의 크기\n",
        "hidden_size = 8 # 은닉 상태의 크기"
      ],
      "execution_count": 69,
      "outputs": []
    },
    {
      "cell_type": "code",
      "metadata": {
        "id": "2GN3krMyJ0gx"
      },
      "source": [
        "# (batch_size, time_steps, input_size)\n",
        "inputs = torch.Tensor(1, 10, 5)"
      ],
      "execution_count": 70,
      "outputs": []
    },
    {
      "cell_type": "code",
      "metadata": {
        "id": "ckwOuWxPJ__x"
      },
      "source": [
        "cell = nn.RNN(input_size, hidden_size, batch_first=True)"
      ],
      "execution_count": 71,
      "outputs": []
    },
    {
      "cell_type": "code",
      "metadata": {
        "id": "wOTKNyLoKY5E"
      },
      "source": [
        "outputs, _status = cell(inputs)"
      ],
      "execution_count": 73,
      "outputs": []
    },
    {
      "cell_type": "code",
      "metadata": {
        "colab": {
          "base_uri": "https://localhost:8080/"
        },
        "id": "BZlwbP9cKmwW",
        "outputId": "293e9ce7-79f4-4d41-cbb5-6c41292c2f32"
      },
      "source": [
        "print(outputs.shape) # 모든 time-step의 hidden_state"
      ],
      "execution_count": 74,
      "outputs": [
        {
          "output_type": "stream",
          "text": [
            "torch.Size([1, 10, 8])\n"
          ],
          "name": "stdout"
        }
      ]
    },
    {
      "cell_type": "code",
      "metadata": {
        "colab": {
          "base_uri": "https://localhost:8080/"
        },
        "id": "XGEFeUZ-K2pk",
        "outputId": "2ff46d3b-82ed-4680-94a7-4295d2c205ac"
      },
      "source": [
        "print(_status.shape) # 최종 time-step의 hidden_state"
      ],
      "execution_count": 75,
      "outputs": [
        {
          "output_type": "stream",
          "text": [
            "torch.Size([1, 1, 8])\n"
          ],
          "name": "stdout"
        }
      ]
    },
    {
      "cell_type": "markdown",
      "metadata": {
        "id": "TkdMFtVpLAQb"
      },
      "source": [
        "## 4. 깊은 순환 신경망(Deep Recurrent Neural Network)"
      ]
    },
    {
      "cell_type": "code",
      "metadata": {
        "id": "7Y8Yee4mK3OZ"
      },
      "source": [
        "# (batch_size, time_steps, input_size)\n",
        "inputs = torch.Tensor(1, 10, 5)"
      ],
      "execution_count": 76,
      "outputs": []
    },
    {
      "cell_type": "code",
      "metadata": {
        "id": "g2kzDQ7SLxrz"
      },
      "source": [
        "cell = nn.RNN(\n",
        "    input_size = 5, \n",
        "    hidden_size = 8, \n",
        "    num_layers = 2, # 층 2개\n",
        "    batch_first=True)"
      ],
      "execution_count": 78,
      "outputs": []
    },
    {
      "cell_type": "code",
      "metadata": {
        "id": "sOpFDnIsM5zW"
      },
      "source": [
        "outputs, _status = cell(inputs)"
      ],
      "execution_count": 81,
      "outputs": []
    },
    {
      "cell_type": "code",
      "metadata": {
        "colab": {
          "base_uri": "https://localhost:8080/"
        },
        "id": "s9ymxWErL8qC",
        "outputId": "1a13b143-9061-42a4-92f3-47755e22ed4a"
      },
      "source": [
        "print(outputs.shape) # 모든 time-step의 hidden_state"
      ],
      "execution_count": 82,
      "outputs": [
        {
          "output_type": "stream",
          "text": [
            "torch.Size([1, 10, 8])\n"
          ],
          "name": "stdout"
        }
      ]
    },
    {
      "cell_type": "code",
      "metadata": {
        "colab": {
          "base_uri": "https://localhost:8080/"
        },
        "id": "HPPFfBBHMBA8",
        "outputId": "65e88edf-a46f-493e-c132-fe425b46f4c6"
      },
      "source": [
        "print(_status.shape) # (층의 개수, 배치 크기, 은닉 상태의 크기)"
      ],
      "execution_count": 83,
      "outputs": [
        {
          "output_type": "stream",
          "text": [
            "torch.Size([2, 1, 8])\n"
          ],
          "name": "stdout"
        }
      ]
    },
    {
      "cell_type": "markdown",
      "metadata": {
        "id": "GTh9MA4CNELo"
      },
      "source": [
        "## 5. 양방향 순환 신경망(Bidirectional Recurrent Neural Network)"
      ]
    },
    {
      "cell_type": "code",
      "metadata": {
        "id": "cbxk8AcXNFjq"
      },
      "source": [
        "# (batch_size, time_steps, input_size)\n",
        "inputs = torch.Tensor(1, 10, 5)"
      ],
      "execution_count": 84,
      "outputs": []
    },
    {
      "cell_type": "code",
      "metadata": {
        "id": "Dk4lTdyeNMCr"
      },
      "source": [
        "cell = nn.RNN(input_size = 5, hidden_size = 8, num_layers = 2, batch_first=True, bidirectional = True)"
      ],
      "execution_count": 85,
      "outputs": []
    },
    {
      "cell_type": "code",
      "metadata": {
        "id": "jSh1VnE0NNW7"
      },
      "source": [
        "outputs, _status = cell(inputs)"
      ],
      "execution_count": 86,
      "outputs": []
    },
    {
      "cell_type": "code",
      "metadata": {
        "colab": {
          "base_uri": "https://localhost:8080/"
        },
        "id": "FTqKAQ_ZNOiI",
        "outputId": "bc71f031-6632-437b-c52f-9cdd623b7729"
      },
      "source": [
        "print(outputs.shape) # (배치 크기, 시퀀스 길이, 은닉 상태의 크기 x 2)"
      ],
      "execution_count": 87,
      "outputs": [
        {
          "output_type": "stream",
          "text": [
            "torch.Size([1, 10, 16])\n"
          ],
          "name": "stdout"
        }
      ]
    },
    {
      "cell_type": "code",
      "metadata": {
        "colab": {
          "base_uri": "https://localhost:8080/"
        },
        "id": "kcUyimo0NPpH",
        "outputId": "dcd7738b-0728-4245-a7d4-a353a75c4009"
      },
      "source": [
        "print(_status.shape) # (층의 개수 x 2, 배치 크기, 은닉 상태의 크기)"
      ],
      "execution_count": 88,
      "outputs": [
        {
          "output_type": "stream",
          "text": [
            "torch.Size([4, 1, 8])\n"
          ],
          "name": "stdout"
        }
      ]
    },
    {
      "cell_type": "markdown",
      "metadata": {
        "id": "dmeV1IIKNas1"
      },
      "source": [
        "# 02. 장단기 메모리(Long Short-Term Memory, LSTM)"
      ]
    },
    {
      "cell_type": "markdown",
      "metadata": {
        "id": "AZ6fVx-4Nc6T"
      },
      "source": [
        "## 1. 바닐라 RNN의 한계"
      ]
    },
    {
      "cell_type": "markdown",
      "metadata": {
        "id": "J7dHCVZgNjHI"
      },
      "source": [
        "## 2. 바닐라 RNN 내부 열어보기"
      ]
    },
    {
      "cell_type": "markdown",
      "metadata": {
        "id": "aHrWTD_3Nl8d"
      },
      "source": [
        "## 3. LSTM(Long Short-Term Memory)"
      ]
    },
    {
      "cell_type": "markdown",
      "metadata": {
        "id": "-iPYmFzHNq10"
      },
      "source": [
        "## 4. 파이토치의 nn.LSTM()"
      ]
    },
    {
      "cell_type": "code",
      "metadata": {
        "id": "b0KICTj5Nruu"
      },
      "source": [
        "nn.LSTM(input_dim, hidden_size, batch_fisrt=True)  "
      ],
      "execution_count": null,
      "outputs": []
    }
  ]
}